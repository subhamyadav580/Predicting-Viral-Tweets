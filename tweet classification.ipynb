{
 "cells": [
  {
   "cell_type": "code",
   "execution_count": 52,
   "id": "spiritual-bradford",
   "metadata": {},
   "outputs": [],
   "source": [
    "import pandas as pd\n",
    "import numpy as np\n",
    "\n",
    "from sklearn.preprocessing import scale\n",
    "from sklearn.neighbors import KNeighborsClassifier\n",
    "import matplotlib.pyplot as plt"
   ]
  },
  {
   "cell_type": "markdown",
   "id": "concerned-annotation",
   "metadata": {},
   "source": [
    "# Loading Data"
   ]
  },
  {
   "cell_type": "code",
   "execution_count": 2,
   "id": "biblical-struggle",
   "metadata": {},
   "outputs": [],
   "source": [
    "all_tweets = pd.read_json(\"random_tweets.json\", lines=True)"
   ]
  },
  {
   "cell_type": "code",
   "execution_count": 4,
   "id": "ambient-ratio",
   "metadata": {},
   "outputs": [
    {
     "data": {
      "text/html": [
       "<div>\n",
       "<style scoped>\n",
       "    .dataframe tbody tr th:only-of-type {\n",
       "        vertical-align: middle;\n",
       "    }\n",
       "\n",
       "    .dataframe tbody tr th {\n",
       "        vertical-align: top;\n",
       "    }\n",
       "\n",
       "    .dataframe thead th {\n",
       "        text-align: right;\n",
       "    }\n",
       "</style>\n",
       "<table border=\"1\" class=\"dataframe\">\n",
       "  <thead>\n",
       "    <tr style=\"text-align: right;\">\n",
       "      <th></th>\n",
       "      <th>created_at</th>\n",
       "      <th>id</th>\n",
       "      <th>id_str</th>\n",
       "      <th>text</th>\n",
       "      <th>truncated</th>\n",
       "      <th>entities</th>\n",
       "      <th>metadata</th>\n",
       "      <th>source</th>\n",
       "      <th>in_reply_to_status_id</th>\n",
       "      <th>in_reply_to_status_id_str</th>\n",
       "      <th>...</th>\n",
       "      <th>favorite_count</th>\n",
       "      <th>favorited</th>\n",
       "      <th>retweeted</th>\n",
       "      <th>lang</th>\n",
       "      <th>possibly_sensitive</th>\n",
       "      <th>quoted_status_id</th>\n",
       "      <th>quoted_status_id_str</th>\n",
       "      <th>extended_entities</th>\n",
       "      <th>quoted_status</th>\n",
       "      <th>withheld_in_countries</th>\n",
       "    </tr>\n",
       "  </thead>\n",
       "  <tbody>\n",
       "    <tr>\n",
       "      <th>0</th>\n",
       "      <td>2018-07-31 13:34:40+00:00</td>\n",
       "      <td>1024287229525598210</td>\n",
       "      <td>1024287229525598208</td>\n",
       "      <td>RT @KWWLStormTrack7: We are more than a month ...</td>\n",
       "      <td>False</td>\n",
       "      <td>{'hashtags': [], 'symbols': [], 'user_mentions...</td>\n",
       "      <td>{'iso_language_code': 'en', 'result_type': 're...</td>\n",
       "      <td>&lt;a href=\"http://twitter.com/download/android\" ...</td>\n",
       "      <td>NaN</td>\n",
       "      <td>NaN</td>\n",
       "      <td>...</td>\n",
       "      <td>0</td>\n",
       "      <td>False</td>\n",
       "      <td>False</td>\n",
       "      <td>en</td>\n",
       "      <td>NaN</td>\n",
       "      <td>NaN</td>\n",
       "      <td>NaN</td>\n",
       "      <td>NaN</td>\n",
       "      <td>NaN</td>\n",
       "      <td>NaN</td>\n",
       "    </tr>\n",
       "    <tr>\n",
       "      <th>1</th>\n",
       "      <td>2018-07-31 13:34:40+00:00</td>\n",
       "      <td>1024287229512953856</td>\n",
       "      <td>1024287229512953856</td>\n",
       "      <td>@hail_ee23 Thanks love its just the feeling of...</td>\n",
       "      <td>False</td>\n",
       "      <td>{'hashtags': [], 'symbols': [], 'user_mentions...</td>\n",
       "      <td>{'iso_language_code': 'en', 'result_type': 're...</td>\n",
       "      <td>&lt;a href=\"http://twitter.com/download/iphone\" r...</td>\n",
       "      <td>1.024128e+18</td>\n",
       "      <td>1.024128e+18</td>\n",
       "      <td>...</td>\n",
       "      <td>0</td>\n",
       "      <td>False</td>\n",
       "      <td>False</td>\n",
       "      <td>en</td>\n",
       "      <td>NaN</td>\n",
       "      <td>NaN</td>\n",
       "      <td>NaN</td>\n",
       "      <td>NaN</td>\n",
       "      <td>NaN</td>\n",
       "      <td>NaN</td>\n",
       "    </tr>\n",
       "    <tr>\n",
       "      <th>2</th>\n",
       "      <td>2018-07-31 13:34:40+00:00</td>\n",
       "      <td>1024287229504569344</td>\n",
       "      <td>1024287229504569344</td>\n",
       "      <td>RT @TransMediaWatch: Pink News has more on the...</td>\n",
       "      <td>False</td>\n",
       "      <td>{'hashtags': [], 'symbols': [], 'user_mentions...</td>\n",
       "      <td>{'iso_language_code': 'en', 'result_type': 're...</td>\n",
       "      <td>&lt;a href=\"http://twitter.com/download/iphone\" r...</td>\n",
       "      <td>NaN</td>\n",
       "      <td>NaN</td>\n",
       "      <td>...</td>\n",
       "      <td>0</td>\n",
       "      <td>False</td>\n",
       "      <td>False</td>\n",
       "      <td>en</td>\n",
       "      <td>0.0</td>\n",
       "      <td>NaN</td>\n",
       "      <td>NaN</td>\n",
       "      <td>NaN</td>\n",
       "      <td>NaN</td>\n",
       "      <td>NaN</td>\n",
       "    </tr>\n",
       "    <tr>\n",
       "      <th>3</th>\n",
       "      <td>2018-07-31 13:34:40+00:00</td>\n",
       "      <td>1024287229496029190</td>\n",
       "      <td>1024287229496029184</td>\n",
       "      <td>RT @realDonaldTrump: One of the reasons we nee...</td>\n",
       "      <td>False</td>\n",
       "      <td>{'hashtags': [], 'symbols': [], 'user_mentions...</td>\n",
       "      <td>{'iso_language_code': 'en', 'result_type': 're...</td>\n",
       "      <td>&lt;a href=\"http://twitter.com/download/android\" ...</td>\n",
       "      <td>NaN</td>\n",
       "      <td>NaN</td>\n",
       "      <td>...</td>\n",
       "      <td>0</td>\n",
       "      <td>False</td>\n",
       "      <td>False</td>\n",
       "      <td>en</td>\n",
       "      <td>NaN</td>\n",
       "      <td>NaN</td>\n",
       "      <td>NaN</td>\n",
       "      <td>NaN</td>\n",
       "      <td>NaN</td>\n",
       "      <td>NaN</td>\n",
       "    </tr>\n",
       "    <tr>\n",
       "      <th>4</th>\n",
       "      <td>2018-07-31 13:34:40+00:00</td>\n",
       "      <td>1024287229492031490</td>\n",
       "      <td>1024287229492031488</td>\n",
       "      <td>RT @First5App: This hearing of His Word doesn’...</td>\n",
       "      <td>False</td>\n",
       "      <td>{'hashtags': [], 'symbols': [], 'user_mentions...</td>\n",
       "      <td>{'iso_language_code': 'en', 'result_type': 're...</td>\n",
       "      <td>&lt;a href=\"http://twitter.com/download/iphone\" r...</td>\n",
       "      <td>NaN</td>\n",
       "      <td>NaN</td>\n",
       "      <td>...</td>\n",
       "      <td>0</td>\n",
       "      <td>False</td>\n",
       "      <td>False</td>\n",
       "      <td>en</td>\n",
       "      <td>NaN</td>\n",
       "      <td>NaN</td>\n",
       "      <td>NaN</td>\n",
       "      <td>NaN</td>\n",
       "      <td>NaN</td>\n",
       "      <td>NaN</td>\n",
       "    </tr>\n",
       "  </tbody>\n",
       "</table>\n",
       "<p>5 rows × 31 columns</p>\n",
       "</div>"
      ],
      "text/plain": [
       "                 created_at                   id               id_str  \\\n",
       "0 2018-07-31 13:34:40+00:00  1024287229525598210  1024287229525598208   \n",
       "1 2018-07-31 13:34:40+00:00  1024287229512953856  1024287229512953856   \n",
       "2 2018-07-31 13:34:40+00:00  1024287229504569344  1024287229504569344   \n",
       "3 2018-07-31 13:34:40+00:00  1024287229496029190  1024287229496029184   \n",
       "4 2018-07-31 13:34:40+00:00  1024287229492031490  1024287229492031488   \n",
       "\n",
       "                                                text  truncated  \\\n",
       "0  RT @KWWLStormTrack7: We are more than a month ...      False   \n",
       "1  @hail_ee23 Thanks love its just the feeling of...      False   \n",
       "2  RT @TransMediaWatch: Pink News has more on the...      False   \n",
       "3  RT @realDonaldTrump: One of the reasons we nee...      False   \n",
       "4  RT @First5App: This hearing of His Word doesn’...      False   \n",
       "\n",
       "                                            entities  \\\n",
       "0  {'hashtags': [], 'symbols': [], 'user_mentions...   \n",
       "1  {'hashtags': [], 'symbols': [], 'user_mentions...   \n",
       "2  {'hashtags': [], 'symbols': [], 'user_mentions...   \n",
       "3  {'hashtags': [], 'symbols': [], 'user_mentions...   \n",
       "4  {'hashtags': [], 'symbols': [], 'user_mentions...   \n",
       "\n",
       "                                            metadata  \\\n",
       "0  {'iso_language_code': 'en', 'result_type': 're...   \n",
       "1  {'iso_language_code': 'en', 'result_type': 're...   \n",
       "2  {'iso_language_code': 'en', 'result_type': 're...   \n",
       "3  {'iso_language_code': 'en', 'result_type': 're...   \n",
       "4  {'iso_language_code': 'en', 'result_type': 're...   \n",
       "\n",
       "                                              source  in_reply_to_status_id  \\\n",
       "0  <a href=\"http://twitter.com/download/android\" ...                    NaN   \n",
       "1  <a href=\"http://twitter.com/download/iphone\" r...           1.024128e+18   \n",
       "2  <a href=\"http://twitter.com/download/iphone\" r...                    NaN   \n",
       "3  <a href=\"http://twitter.com/download/android\" ...                    NaN   \n",
       "4  <a href=\"http://twitter.com/download/iphone\" r...                    NaN   \n",
       "\n",
       "   in_reply_to_status_id_str  ...  favorite_count  favorited retweeted lang  \\\n",
       "0                        NaN  ...               0      False     False   en   \n",
       "1               1.024128e+18  ...               0      False     False   en   \n",
       "2                        NaN  ...               0      False     False   en   \n",
       "3                        NaN  ...               0      False     False   en   \n",
       "4                        NaN  ...               0      False     False   en   \n",
       "\n",
       "  possibly_sensitive quoted_status_id quoted_status_id_str  extended_entities  \\\n",
       "0                NaN              NaN                  NaN                NaN   \n",
       "1                NaN              NaN                  NaN                NaN   \n",
       "2                0.0              NaN                  NaN                NaN   \n",
       "3                NaN              NaN                  NaN                NaN   \n",
       "4                NaN              NaN                  NaN                NaN   \n",
       "\n",
       "  quoted_status  withheld_in_countries  \n",
       "0           NaN                    NaN  \n",
       "1           NaN                    NaN  \n",
       "2           NaN                    NaN  \n",
       "3           NaN                    NaN  \n",
       "4           NaN                    NaN  \n",
       "\n",
       "[5 rows x 31 columns]"
      ]
     },
     "execution_count": 4,
     "metadata": {},
     "output_type": "execute_result"
    }
   ],
   "source": [
    "all_tweets.head()"
   ]
  },
  {
   "cell_type": "code",
   "execution_count": 6,
   "id": "utility-johnson",
   "metadata": {},
   "outputs": [
    {
     "data": {
      "text/plain": [
       "11099"
      ]
     },
     "execution_count": 6,
     "metadata": {},
     "output_type": "execute_result"
    }
   ],
   "source": [
    "len(all_tweets)"
   ]
  },
  {
   "cell_type": "code",
   "execution_count": 7,
   "id": "hundred-ballot",
   "metadata": {},
   "outputs": [
    {
     "data": {
      "text/plain": [
       "'RT @KWWLStormTrack7: We are more than a month into summer but the days are getting shorter. The sunrise is about 25 minutes later on July 3…'"
      ]
     },
     "execution_count": 7,
     "metadata": {},
     "output_type": "execute_result"
    }
   ],
   "source": [
    "all_tweets.loc[0].text"
   ]
  },
  {
   "cell_type": "markdown",
   "id": "pleased-cherry",
   "metadata": {},
   "source": [
    "# Creating labels Column"
   ]
  },
  {
   "cell_type": "raw",
   "id": "furnished-ghost",
   "metadata": {},
   "source": [
    "In this data we are going to create a label column which tell whether the tweet goes viral or not. For the creating this we have used the retweet column to classify them whether the tweet gone viral or not. We have used the median of retweet's as a base condition for classifying tweet."
   ]
  },
  {
   "cell_type": "markdown",
   "id": "normal-practice",
   "metadata": {},
   "source": [
    "### Calculating Mean of retweets"
   ]
  },
  {
   "cell_type": "code",
   "execution_count": 8,
   "id": "prescribed-template",
   "metadata": {},
   "outputs": [],
   "source": [
    "median_retweets = all_tweets.retweet_count.median()"
   ]
  },
  {
   "cell_type": "code",
   "execution_count": 10,
   "id": "american-exploration",
   "metadata": {},
   "outputs": [
    {
     "data": {
      "text/plain": [
       "13.0"
      ]
     },
     "execution_count": 10,
     "metadata": {},
     "output_type": "execute_result"
    }
   ],
   "source": [
    "median_retweets"
   ]
  },
  {
   "cell_type": "markdown",
   "id": "ceramic-cabinet",
   "metadata": {},
   "source": [
    "### Creating New column"
   ]
  },
  {
   "cell_type": "raw",
   "id": "boolean-resource",
   "metadata": {},
   "source": [
    "New column is `is_viral` which contains the classifiction of tweet whether it is viral or not.\n",
    "1 means viral and 0 means not viral."
   ]
  },
  {
   "cell_type": "code",
   "execution_count": 11,
   "id": "extra-group",
   "metadata": {},
   "outputs": [],
   "source": [
    "all_tweets['is_viral'] = np.where(all_tweets['retweet_count'] > median_retweets, 1, 0)"
   ]
  },
  {
   "cell_type": "markdown",
   "id": "first-elimination",
   "metadata": {},
   "source": [
    "# Features"
   ]
  },
  {
   "cell_type": "raw",
   "id": "mighty-guitar",
   "metadata": {},
   "source": [
    "Now we create all the features which will be important for the viral of tweets, such as tweet length, number of followers, number of friends, number of hastags in the tweets and many other features."
   ]
  },
  {
   "cell_type": "code",
   "execution_count": 12,
   "id": "smaller-choir",
   "metadata": {},
   "outputs": [],
   "source": [
    "all_tweets['tweet_length'] = all_tweets.apply(lambda tweet : len(tweet['text']), axis=1)"
   ]
  },
  {
   "cell_type": "code",
   "execution_count": 16,
   "id": "maritime-bristol",
   "metadata": {},
   "outputs": [
    {
     "data": {
      "text/plain": [
       "0        140\n",
       "1         77\n",
       "2        140\n",
       "3        140\n",
       "4        140\n",
       "        ... \n",
       "11094    140\n",
       "11095     75\n",
       "11096    140\n",
       "11097    140\n",
       "11098     75\n",
       "Name: tweet_length, Length: 11099, dtype: int64"
      ]
     },
     "execution_count": 16,
     "metadata": {},
     "output_type": "execute_result"
    }
   ],
   "source": [
    "all_tweets['tweet_length']"
   ]
  },
  {
   "cell_type": "code",
   "execution_count": 13,
   "id": "small-orbit",
   "metadata": {},
   "outputs": [],
   "source": [
    "all_tweets['followers_count'] = all_tweets.apply(lambda tweet : tweet['user']['followers_count'], axis=1)"
   ]
  },
  {
   "cell_type": "code",
   "execution_count": 17,
   "id": "personal-partnership",
   "metadata": {},
   "outputs": [
    {
     "data": {
      "text/plain": [
       "0         215\n",
       "1         199\n",
       "2         196\n",
       "3        3313\n",
       "4         125\n",
       "         ... \n",
       "11094     509\n",
       "11095     462\n",
       "11096     135\n",
       "11097      59\n",
       "11098    1563\n",
       "Name: followers_count, Length: 11099, dtype: int64"
      ]
     },
     "execution_count": 17,
     "metadata": {},
     "output_type": "execute_result"
    }
   ],
   "source": [
    "all_tweets['followers_count']"
   ]
  },
  {
   "cell_type": "code",
   "execution_count": 19,
   "id": "breeding-covering",
   "metadata": {},
   "outputs": [],
   "source": [
    "all_tweets['friends_count'] = all_tweets.apply(lambda tweet : tweet['user']['friends_count'], axis=1)"
   ]
  },
  {
   "cell_type": "code",
   "execution_count": 20,
   "id": "controversial-character",
   "metadata": {},
   "outputs": [
    {
     "data": {
      "text/plain": [
       "0         335\n",
       "1         203\n",
       "2         558\n",
       "3        2272\n",
       "4         273\n",
       "         ... \n",
       "11094    1323\n",
       "11095    1033\n",
       "11096      90\n",
       "11097     320\n",
       "11098    1697\n",
       "Name: friends_count, Length: 11099, dtype: int64"
      ]
     },
     "execution_count": 20,
     "metadata": {},
     "output_type": "execute_result"
    }
   ],
   "source": [
    "all_tweets['friends_count']"
   ]
  },
  {
   "cell_type": "code",
   "execution_count": 15,
   "id": "primary-james",
   "metadata": {},
   "outputs": [],
   "source": [
    "all_tweets['hastag_count'] = all_tweets.apply(lambda tweet : tweet['text'].count('#'), axis=1)"
   ]
  },
  {
   "cell_type": "code",
   "execution_count": 22,
   "id": "choice-blocking",
   "metadata": {},
   "outputs": [
    {
     "data": {
      "text/plain": [
       "0        0\n",
       "1        0\n",
       "2        0\n",
       "3        0\n",
       "4        0\n",
       "        ..\n",
       "11094    0\n",
       "11095    0\n",
       "11096    0\n",
       "11097    0\n",
       "11098    0\n",
       "Name: hastag_count, Length: 11099, dtype: int64"
      ]
     },
     "execution_count": 22,
     "metadata": {},
     "output_type": "execute_result"
    }
   ],
   "source": [
    "all_tweets['hastag_count']"
   ]
  },
  {
   "cell_type": "code",
   "execution_count": 23,
   "id": "informational-messaging",
   "metadata": {},
   "outputs": [],
   "source": [
    "labels = all_tweets['is_viral']"
   ]
  },
  {
   "cell_type": "code",
   "execution_count": 24,
   "id": "specified-alpha",
   "metadata": {},
   "outputs": [
    {
     "data": {
      "text/plain": [
       "0        0\n",
       "1        0\n",
       "2        0\n",
       "3        1\n",
       "4        0\n",
       "        ..\n",
       "11094    1\n",
       "11095    1\n",
       "11096    0\n",
       "11097    0\n",
       "11098    0\n",
       "Name: is_viral, Length: 11099, dtype: int64"
      ]
     },
     "execution_count": 24,
     "metadata": {},
     "output_type": "execute_result"
    }
   ],
   "source": [
    "labels"
   ]
  },
  {
   "cell_type": "raw",
   "id": "abroad-nylon",
   "metadata": {},
   "source": [
    "Combining all features in on new dataframe"
   ]
  },
  {
   "cell_type": "code",
   "execution_count": 25,
   "id": "fabulous-fourth",
   "metadata": {},
   "outputs": [],
   "source": [
    "data = all_tweets[['tweet_length', 'followers_count', 'friends_count', 'hastag_count']]"
   ]
  },
  {
   "cell_type": "code",
   "execution_count": 26,
   "id": "ranging-seven",
   "metadata": {},
   "outputs": [
    {
     "data": {
      "text/html": [
       "<div>\n",
       "<style scoped>\n",
       "    .dataframe tbody tr th:only-of-type {\n",
       "        vertical-align: middle;\n",
       "    }\n",
       "\n",
       "    .dataframe tbody tr th {\n",
       "        vertical-align: top;\n",
       "    }\n",
       "\n",
       "    .dataframe thead th {\n",
       "        text-align: right;\n",
       "    }\n",
       "</style>\n",
       "<table border=\"1\" class=\"dataframe\">\n",
       "  <thead>\n",
       "    <tr style=\"text-align: right;\">\n",
       "      <th></th>\n",
       "      <th>tweet_length</th>\n",
       "      <th>followers_count</th>\n",
       "      <th>friends_count</th>\n",
       "      <th>hastag_count</th>\n",
       "    </tr>\n",
       "  </thead>\n",
       "  <tbody>\n",
       "    <tr>\n",
       "      <th>0</th>\n",
       "      <td>140</td>\n",
       "      <td>215</td>\n",
       "      <td>335</td>\n",
       "      <td>0</td>\n",
       "    </tr>\n",
       "    <tr>\n",
       "      <th>1</th>\n",
       "      <td>77</td>\n",
       "      <td>199</td>\n",
       "      <td>203</td>\n",
       "      <td>0</td>\n",
       "    </tr>\n",
       "    <tr>\n",
       "      <th>2</th>\n",
       "      <td>140</td>\n",
       "      <td>196</td>\n",
       "      <td>558</td>\n",
       "      <td>0</td>\n",
       "    </tr>\n",
       "    <tr>\n",
       "      <th>3</th>\n",
       "      <td>140</td>\n",
       "      <td>3313</td>\n",
       "      <td>2272</td>\n",
       "      <td>0</td>\n",
       "    </tr>\n",
       "    <tr>\n",
       "      <th>4</th>\n",
       "      <td>140</td>\n",
       "      <td>125</td>\n",
       "      <td>273</td>\n",
       "      <td>0</td>\n",
       "    </tr>\n",
       "    <tr>\n",
       "      <th>...</th>\n",
       "      <td>...</td>\n",
       "      <td>...</td>\n",
       "      <td>...</td>\n",
       "      <td>...</td>\n",
       "    </tr>\n",
       "    <tr>\n",
       "      <th>11094</th>\n",
       "      <td>140</td>\n",
       "      <td>509</td>\n",
       "      <td>1323</td>\n",
       "      <td>0</td>\n",
       "    </tr>\n",
       "    <tr>\n",
       "      <th>11095</th>\n",
       "      <td>75</td>\n",
       "      <td>462</td>\n",
       "      <td>1033</td>\n",
       "      <td>0</td>\n",
       "    </tr>\n",
       "    <tr>\n",
       "      <th>11096</th>\n",
       "      <td>140</td>\n",
       "      <td>135</td>\n",
       "      <td>90</td>\n",
       "      <td>0</td>\n",
       "    </tr>\n",
       "    <tr>\n",
       "      <th>11097</th>\n",
       "      <td>140</td>\n",
       "      <td>59</td>\n",
       "      <td>320</td>\n",
       "      <td>0</td>\n",
       "    </tr>\n",
       "    <tr>\n",
       "      <th>11098</th>\n",
       "      <td>75</td>\n",
       "      <td>1563</td>\n",
       "      <td>1697</td>\n",
       "      <td>0</td>\n",
       "    </tr>\n",
       "  </tbody>\n",
       "</table>\n",
       "<p>11099 rows × 4 columns</p>\n",
       "</div>"
      ],
      "text/plain": [
       "       tweet_length  followers_count  friends_count  hastag_count\n",
       "0               140              215            335             0\n",
       "1                77              199            203             0\n",
       "2               140              196            558             0\n",
       "3               140             3313           2272             0\n",
       "4               140              125            273             0\n",
       "...             ...              ...            ...           ...\n",
       "11094           140              509           1323             0\n",
       "11095            75              462           1033             0\n",
       "11096           140              135             90             0\n",
       "11097           140               59            320             0\n",
       "11098            75             1563           1697             0\n",
       "\n",
       "[11099 rows x 4 columns]"
      ]
     },
     "execution_count": 26,
     "metadata": {},
     "output_type": "execute_result"
    }
   ],
   "source": [
    "data"
   ]
  },
  {
   "cell_type": "markdown",
   "id": "civilian-target",
   "metadata": {},
   "source": [
    "# Normalizing The Data"
   ]
  },
  {
   "cell_type": "code",
   "execution_count": 27,
   "id": "level-bandwidth",
   "metadata": {},
   "outputs": [],
   "source": [
    "scaled_data = scale(data, axis=0)"
   ]
  },
  {
   "cell_type": "code",
   "execution_count": 28,
   "id": "satisfactory-calculator",
   "metadata": {},
   "outputs": [
    {
     "data": {
      "text/plain": [
       "array([[ 0.6164054 , -0.02878298, -0.14483305, -0.32045057],\n",
       "       [-1.64577622, -0.02886246, -0.16209787, -0.32045057],\n",
       "       [ 0.6164054 , -0.02887736, -0.11566596, -0.32045057],\n",
       "       ...,\n",
       "       [ 0.6164054 , -0.02918038, -0.1768776 , -0.32045057],\n",
       "       [ 0.6164054 , -0.02955792, -0.14679496, -0.32045057],\n",
       "       [-1.71759151, -0.02208668,  0.0333085 , -0.32045057]])"
      ]
     },
     "execution_count": 28,
     "metadata": {},
     "output_type": "execute_result"
    }
   ],
   "source": [
    "scaled_data"
   ]
  },
  {
   "cell_type": "markdown",
   "id": "adequate-retirement",
   "metadata": {},
   "source": [
    "# Creating the Training Set and Validation Set"
   ]
  },
  {
   "cell_type": "code",
   "execution_count": 33,
   "id": "aging-creek",
   "metadata": {},
   "outputs": [
    {
     "data": {
      "text/plain": [
       "((9099, 4), (9099,), (2000, 4))"
      ]
     },
     "execution_count": 33,
     "metadata": {},
     "output_type": "execute_result"
    }
   ],
   "source": [
    "def split_vals(a,n):\n",
    "    return a[:n].copy(), a[n:].copy()\n",
    "\n",
    "n_valid = 2000 \n",
    "n_trn = len(scaled_data)-n_valid\n",
    "raw_train, raw_valid = split_vals(all_tweets, n_trn)\n",
    "X_train, X_valid = split_vals(scaled_data, n_trn)\n",
    "y_train, y_valid = split_vals(labels, n_trn)\n",
    "\n",
    "X_train.shape, y_train.shape, X_valid.shape"
   ]
  },
  {
   "cell_type": "markdown",
   "id": "centered-proceeding",
   "metadata": {},
   "source": [
    "# Using the Classifier"
   ]
  },
  {
   "cell_type": "code",
   "execution_count": 34,
   "id": "boxed-range",
   "metadata": {},
   "outputs": [],
   "source": [
    "classifier = KNeighborsClassifier(n_neighbors = 5)"
   ]
  },
  {
   "cell_type": "code",
   "execution_count": 35,
   "id": "desperate-ethics",
   "metadata": {},
   "outputs": [
    {
     "name": "stdout",
     "output_type": "stream",
     "text": [
      "0.583\n"
     ]
    }
   ],
   "source": [
    "classifier.fit(X_train, y_train)\n",
    "print(classifier.score(X_valid, y_valid))"
   ]
  },
  {
   "cell_type": "markdown",
   "id": "heard-patrick",
   "metadata": {},
   "source": [
    "# Choosing K"
   ]
  },
  {
   "cell_type": "code",
   "execution_count": 36,
   "id": "rocky-johnson",
   "metadata": {},
   "outputs": [],
   "source": [
    "scores = []"
   ]
  },
  {
   "cell_type": "code",
   "execution_count": 37,
   "id": "vietnamese-antenna",
   "metadata": {},
   "outputs": [],
   "source": [
    "for k in range(1, 201):\n",
    "    classifier = KNeighborsClassifier(n_neighbors = k)\n",
    "    classifier.fit(X_train, y_train)\n",
    "    scores.append(classifier.score(X_valid, y_valid))"
   ]
  },
  {
   "cell_type": "code",
   "execution_count": 38,
   "id": "raising-vault",
   "metadata": {},
   "outputs": [
    {
     "data": {
      "image/png": "[encoded data removed]",
      "text/plain": [
       "<Figure size 432x288 with 1 Axes>"
      ]
     },
     "metadata": {
      "needs_background": "light"
     },
     "output_type": "display_data"
    }
   ],
   "source": [
    "plt.plot(range(1,201), scores)\n",
    "plt.show()"
   ]
  },
  {
   "cell_type": "raw",
   "id": "neither-samba",
   "metadata": {},
   "source": [
    "Now we take out the maximum score and n_neighbors value which is giving the best score"
   ]
  },
  {
   "cell_type": "code",
   "execution_count": 49,
   "id": "visible-andrew",
   "metadata": {},
   "outputs": [
    {
     "name": "stdout",
     "output_type": "stream",
     "text": [
      "105\n"
     ]
    }
   ],
   "source": [
    "max_index = scores.index(max(scores)) + 1\n",
    "print(max_index)"
   ]
  },
  {
   "cell_type": "code",
   "execution_count": 51,
   "id": "typical-tooth",
   "metadata": {},
   "outputs": [
    {
     "data": {
      "text/plain": [
       "61.95"
      ]
     },
     "execution_count": 51,
     "metadata": {},
     "output_type": "execute_result"
    }
   ],
   "source": [
    "classifier = KNeighborsClassifier(n_neighbors = max_index)\n",
    "classifier.fit(X_train, y_train)\n",
    "classifier.score(X_valid, y_valid) * 100"
   ]
  },
  {
   "cell_type": "code",
   "execution_count": null,
   "id": "atmospheric-coral",
   "metadata": {},
   "outputs": [],
   "source": []
  }
 ],
 "metadata": {
  "kernelspec": {
   "display_name": "Python 3",
   "language": "python",
   "name": "python3"
  },
  "language_info": {
   "codemirror_mode": {
    "name": "ipython",
    "version": 3
   },
   "file_extension": ".py",
   "mimetype": "text/x-python",
   "name": "python",
   "nbconvert_exporter": "python",
   "pygments_lexer": "ipython3",
   "version": "3.6.9"
  }
 },
 "nbformat": 4,
 "nbformat_minor": 5
}
